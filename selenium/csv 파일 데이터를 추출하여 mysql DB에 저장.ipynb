{
 "cells": [
  {
   "cell_type": "code",
   "execution_count": 2,
   "id": "c4124e9c",
   "metadata": {},
   "outputs": [],
   "source": [
    "import pandas as pd"
   ]
  },
  {
   "cell_type": "code",
   "execution_count": 16,
   "id": "15be37e1",
   "metadata": {},
   "outputs": [],
   "source": [
    "df = pd.read_excel('./naver_shopping_result.xlsx', header=None)"
   ]
  },
  {
   "cell_type": "code",
   "execution_count": 19,
   "id": "c2d8b515",
   "metadata": {},
   "outputs": [],
   "source": [
    "df.to_csv('./naver_shopping_result.csv', index=False, header=False, encoding='utf-8-sig')"
   ]
  },
  {
   "cell_type": "code",
   "execution_count": 18,
   "id": "981439ac",
   "metadata": {},
   "outputs": [
    {
     "data": {
      "text/html": [
       "<div>\n",
       "<style scoped>\n",
       "    .dataframe tbody tr th:only-of-type {\n",
       "        vertical-align: middle;\n",
       "    }\n",
       "\n",
       "    .dataframe tbody tr th {\n",
       "        vertical-align: top;\n",
       "    }\n",
       "\n",
       "    .dataframe thead th {\n",
       "        text-align: right;\n",
       "    }\n",
       "</style>\n",
       "<table border=\"1\" class=\"dataframe\">\n",
       "  <thead>\n",
       "    <tr style=\"text-align: right;\">\n",
       "      <th></th>\n",
       "      <th>0</th>\n",
       "      <th>1</th>\n",
       "    </tr>\n",
       "  </thead>\n",
       "  <tbody>\n",
       "    <tr>\n",
       "      <th>0</th>\n",
       "      <td>1</td>\n",
       "      <td>닭가슴살</td>\n",
       "    </tr>\n",
       "    <tr>\n",
       "      <th>1</th>\n",
       "      <td>2</td>\n",
       "      <td>오메가3</td>\n",
       "    </tr>\n",
       "    <tr>\n",
       "      <th>2</th>\n",
       "      <td>3</td>\n",
       "      <td>먹태깡</td>\n",
       "    </tr>\n",
       "    <tr>\n",
       "      <th>3</th>\n",
       "      <td>4</td>\n",
       "      <td>글루타치온</td>\n",
       "    </tr>\n",
       "    <tr>\n",
       "      <th>4</th>\n",
       "      <td>5</td>\n",
       "      <td>쌀20kg</td>\n",
       "    </tr>\n",
       "    <tr>\n",
       "      <th>...</th>\n",
       "      <td>...</td>\n",
       "      <td>...</td>\n",
       "    </tr>\n",
       "    <tr>\n",
       "      <th>495</th>\n",
       "      <td>496</td>\n",
       "      <td>마카</td>\n",
       "    </tr>\n",
       "    <tr>\n",
       "      <th>496</th>\n",
       "      <td>497</td>\n",
       "      <td>스테비아</td>\n",
       "    </tr>\n",
       "    <tr>\n",
       "      <th>497</th>\n",
       "      <td>498</td>\n",
       "      <td>하누카세</td>\n",
       "    </tr>\n",
       "    <tr>\n",
       "      <th>498</th>\n",
       "      <td>499</td>\n",
       "      <td>능이버섯</td>\n",
       "    </tr>\n",
       "    <tr>\n",
       "      <th>499</th>\n",
       "      <td>500</td>\n",
       "      <td>막창</td>\n",
       "    </tr>\n",
       "  </tbody>\n",
       "</table>\n",
       "<p>500 rows × 2 columns</p>\n",
       "</div>"
      ],
      "text/plain": [
       "       0      1\n",
       "0      1   닭가슴살\n",
       "1      2   오메가3\n",
       "2      3    먹태깡\n",
       "3      4  글루타치온\n",
       "4      5  쌀20kg\n",
       "..   ...    ...\n",
       "495  496     마카\n",
       "496  497   스테비아\n",
       "497  498   하누카세\n",
       "498  499   능이버섯\n",
       "499  500     막창\n",
       "\n",
       "[500 rows x 2 columns]"
      ]
     },
     "execution_count": 18,
     "metadata": {},
     "output_type": "execute_result"
    }
   ],
   "source": [
    "df"
   ]
  },
  {
   "cell_type": "markdown",
   "id": "16e707df",
   "metadata": {},
   "source": [
    "## pymysql 파이썬 라이브러리를 이용하여 mysql DB 연결 및 종료 코드를 작성"
   ]
  },
  {
   "cell_type": "code",
   "execution_count": 20,
   "id": "1b103f71",
   "metadata": {},
   "outputs": [],
   "source": [
    "import sys\n",
    "import pymysql\n",
    "\n",
    "def mysqlDbConnection(u, pw, h, p, d):\n",
    "    try:\n",
    "        conn = pymysql.connect(user = u, password = pw, host = h, port = p, database = d, charset='utf8')\n",
    "        print(f\"DB Connection Success: {h}\")\n",
    "    except pymysql.Error as e:\n",
    "        print(f\"Error connecting to MySQL Platform : {e}\")\n",
    "        sys.exit(1)\n",
    "    return conn\n",
    "\n",
    "\n",
    "def mysqlDbClose(_dbConn):\n",
    "    try:\n",
    "        _dbConn.close()\n",
    "        print(\"DB Close Success\")\n",
    "    except pymysql.Error as e:\n",
    "        print(\"Error closing from MySQL Platform\")\n",
    "        sys.exit(1)\n"
   ]
  },
  {
   "cell_type": "markdown",
   "id": "18afa979",
   "metadata": {},
   "source": [
    "## mysql 스키마 및 테이블을 생성"
   ]
  },
  {
   "cell_type": "code",
   "execution_count": 26,
   "id": "380b28ff",
   "metadata": {},
   "outputs": [
    {
     "name": "stdout",
     "output_type": "stream",
     "text": [
      "DB Connection Success: localhost\n",
      "DB Close Success\n"
     ]
    }
   ],
   "source": [
    "import pymysql\n",
    "\n",
    "# dbConn = pymysql.connect(host='localhost', user='rubi', password='mysql', db='shop100', charset='utf8')\n",
    "dbConn = mysqlDbConnection('rubi',  'mysql', 'localhost', 3306, 'shop100')\n",
    "cursor = dbConn.cursor()\n",
    "\n",
    "# 테이블 생성(데이터 타입 : 공식 레퍼런스 참조 또는 검색 참조)\n",
    "cursor.execute(\"CREATE TABLE IF NOT EXISTS example_csv (`ranking` bigint(20) NOT NULL, \"\n",
    "               \"`item` varchar(50) NOT NULL, PRIMARY KEY (`ranking`))\"\n",
    ")\n",
    "\n",
    "dbConn.commit()\n",
    "cursor.close()\n",
    "mysqlDbClose(dbConn)\n"
   ]
  },
  {
   "cell_type": "markdown",
   "id": "bb60a9cb",
   "metadata": {},
   "source": [
    "## csv 파이썬 라이브러리를 이용하여 파일 데이터를 추출하고, mysql DB에 저장하는 코드를 작성"
   ]
  },
  {
   "cell_type": "code",
   "execution_count": 31,
   "id": "6f5d0395",
   "metadata": {},
   "outputs": [
    {
     "name": "stdout",
     "output_type": "stream",
     "text": [
      "DB Connection Success: localhost\n",
      "DB Close Success\n"
     ]
    }
   ],
   "source": [
    "import csv\n",
    "\n",
    "dbConn = mysqlDbConnection('rubi',  'mysql', 'localhost', 3306, 'shop100')\n",
    "cursor = dbConn.cursor()\n",
    "\n",
    "file = open('./naver_shopping_result.csv','r', encoding='UTF8')\n",
    "fReader = csv.reader(file)\n",
    "\n",
    "# 첫 번째 라인을 읽어서 BOM 제거\n",
    "first_line = next(fReader)\n",
    "first_line = [cell.strip('\\ufeff') for cell in first_line]\n",
    "\n",
    "for line in fReader:\n",
    "#     print(line[0], line[1])\n",
    "    ranking = line[0]\n",
    "    item = line[1]\n",
    "    \n",
    "    # 해당 rank 값이 테이블에 이미 있는지 확인\n",
    "    query_check = \"SELECT COUNT(*) FROM example_csv WHERE ranking = %s\"\n",
    "    cursor.execute(query_check, (ranking,))\n",
    "    count = cursor.fetchone()[0]\n",
    "    \n",
    "    # 중복되지 않은 경우에만 INSERT 문 실행\n",
    "    if count == 0:\n",
    "        query_insert = \"INSERT INTO example_csv VALUES (%s, %s)\"\n",
    "        cursor.execute(query_insert, (ranking, item))\n",
    "    \n",
    "file.close()\n",
    "\n",
    "dbConn.commit() \n",
    "cursor.close()\n",
    "mysqlDbClose(dbConn)"
   ]
  },
  {
   "cell_type": "code",
   "execution_count": null,
   "id": "06f4d64c",
   "metadata": {},
   "outputs": [],
   "source": []
  }
 ],
 "metadata": {
  "kernelspec": {
   "display_name": "Python 3 (ipykernel)",
   "language": "python",
   "name": "python3"
  },
  "language_info": {
   "codemirror_mode": {
    "name": "ipython",
    "version": 3
   },
   "file_extension": ".py",
   "mimetype": "text/x-python",
   "name": "python",
   "nbconvert_exporter": "python",
   "pygments_lexer": "ipython3",
   "version": "3.9.17"
  }
 },
 "nbformat": 4,
 "nbformat_minor": 5
}
