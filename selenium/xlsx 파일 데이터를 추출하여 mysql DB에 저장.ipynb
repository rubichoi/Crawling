{
 "cells": [
  {
   "cell_type": "markdown",
   "id": "16e707df",
   "metadata": {},
   "source": [
    "## pymysql 파이썬 라이브러리를 이용하여 mysql DB 연결 및 종료 코드를 작성"
   ]
  },
  {
   "cell_type": "code",
   "execution_count": 13,
   "id": "1b103f71",
   "metadata": {},
   "outputs": [],
   "source": [
    "import sys\n",
    "import pymysql\n",
    "\n",
    "\n",
    " \n",
    "def mysqlDbConnection(u, pw, h, p, d):\n",
    "    try:\n",
    "        conn = pymysql.connect(user = u, password = pw, host = h, port = p, database = d)\n",
    "        print(f\"DB Connection Success: {h}\")\n",
    "    except pymysql.Error as e:\n",
    "        print(f\"Error connecting to MySQL Platform : {e}\")\n",
    "        sys.exit(1)\n",
    "    return conn\n",
    "\n",
    "\n",
    "def mysqlDbClose(_dbConn):\n",
    "    try:\n",
    "        _dbConn.close()\n",
    "        print(\"DB Close Success\")\n",
    "    except pymysql.Error as e:\n",
    "        print(\"Error closing from MySQL Platform\")\n",
    "        sys.exit(1)\n"
   ]
  },
  {
   "cell_type": "markdown",
   "id": "18afa979",
   "metadata": {},
   "source": [
    "## mysql 스키마 및 테이블을 생성"
   ]
  },
  {
   "cell_type": "code",
   "execution_count": 21,
   "id": "380b28ff",
   "metadata": {},
   "outputs": [
    {
     "name": "stdout",
     "output_type": "stream",
     "text": [
      "DB Close Success\n"
     ]
    }
   ],
   "source": [
    "import pymysql\n",
    "\n",
    "dbConn = pymysql.connect(host='localhost', user='rubi', password='mysql', db='shop100', charset='utf8')\n",
    "# dbConn = mysqlDbConnection('localhost', 'rubi', 'mysql', 'shop100')\n",
    "cursor = dbConn.cursor()\n",
    "\n",
    "# 테이블 생성(데이터 타입 : 공식 레퍼런스 참조 또는 검색 참조)\n",
    "cursor.execute(\"CREATE TABLE IF NOT EXISTS example (`ranking` bigint(20) NOT NULL, \"\n",
    "               \"`item` varchar(50) NOT NULL, PRIMARY KEY (`ranking`))\"\n",
    ")\n",
    "\n",
    "dbConn.commit()\n",
    "cursor.close()\n",
    "mysqlDbClose(dbConn)\n"
   ]
  },
  {
   "cell_type": "markdown",
   "id": "bb60a9cb",
   "metadata": {},
   "source": [
    "## openpyxl 파이썬 라이브러리를 이용하여 파일 데이터를 추출하고, mysql DB에 저장하는 코드를 작성"
   ]
  },
  {
   "cell_type": "code",
   "execution_count": 24,
   "id": "82846567",
   "metadata": {},
   "outputs": [
    {
     "name": "stdout",
     "output_type": "stream",
     "text": [
      "DB Connection Success: localhost\n",
      "DB Close Success\n"
     ]
    }
   ],
   "source": [
    "import openpyxl\n",
    "    \n",
    "dbConn = mysqlDbConnection('rubi', 'mysql', 'localhost', 3306, 'shop100')\n",
    "cursor = dbConn.cursor()\n",
    "\n",
    "file = openpyxl.load_workbook('./naver_shopping_result.xlsx')\n",
    "\n",
    "sheet = file.active\n",
    " \n",
    "for row in sheet.iter_rows():\n",
    "    values = tuple(cell.value for cell in row)\n",
    "    query = \"INSERT INTO example (ranking, item) VALUES (%s, %s)\"\n",
    "    cursor.execute(query, values)\n",
    "\n",
    "file.close()\n",
    "\n",
    "dbConn.commit()\n",
    "cursor.close()\n",
    "mysqlDbClose(dbConn)"
   ]
  },
  {
   "cell_type": "code",
   "execution_count": null,
   "id": "06f4d64c",
   "metadata": {},
   "outputs": [],
   "source": []
  }
 ],
 "metadata": {
  "kernelspec": {
   "display_name": "Python 3 (ipykernel)",
   "language": "python",
   "name": "python3"
  },
  "language_info": {
   "codemirror_mode": {
    "name": "ipython",
    "version": 3
   },
   "file_extension": ".py",
   "mimetype": "text/x-python",
   "name": "python",
   "nbconvert_exporter": "python",
   "pygments_lexer": "ipython3",
   "version": "3.9.17"
  }
 },
 "nbformat": 4,
 "nbformat_minor": 5
}
