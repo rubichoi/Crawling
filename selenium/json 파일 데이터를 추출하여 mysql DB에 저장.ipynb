{
 "cells": [
  {
   "cell_type": "code",
   "execution_count": 3,
   "id": "f19200ac",
   "metadata": {},
   "outputs": [],
   "source": [
    "import pymysql\n",
    "import simplejson as json\n",
    "import datetime"
   ]
  },
  {
   "cell_type": "code",
   "execution_count": 8,
   "id": "26be1742",
   "metadata": {},
   "outputs": [],
   "source": [
    "import sys\n",
    "import pymysql\n",
    "\n",
    "def mysqlDbConnection(u, pw, h, p, d):\n",
    "    try:\n",
    "        conn = pymysql.connect(user = u, password = pw, host = h, port = p, database = d, charset='utf8')\n",
    "        print(f\"DB Connection Success: {h}\")\n",
    "    except pymysql.Error as e:\n",
    "        print(f\"Error connecting to MySQL Platform : {e}\")\n",
    "        sys.exit(1)\n",
    "    return conn\n",
    "\n",
    "\n",
    "def mysqlDbClose(_dbConn):\n",
    "    try:\n",
    "        _dbConn.close()\n",
    "        print(\"DB Close Success\")\n",
    "    except pymysql.Error as e:\n",
    "        print(\"Error closing from MySQL Platform\")\n",
    "        sys.exit(1)\n"
   ]
  },
  {
   "cell_type": "code",
   "execution_count": 9,
   "id": "20b14bb7",
   "metadata": {},
   "outputs": [
    {
     "name": "stdout",
     "output_type": "stream",
     "text": [
      "DB Connection Success: localhost\n",
      "DB Close Success\n"
     ]
    }
   ],
   "source": [
    "import pymysql\n",
    "\n",
    "# dbConn = pymysql.connect(host='localhost', user='rubi', password='mysql', db='shop100', charset='utf8')\n",
    "dbConn = mysqlDbConnection('rubi',  'mysql', 'localhost', 3306, 'shop100')\n",
    "cursor = dbConn.cursor()\n",
    "\n",
    "# 테이블 생성(데이터 타입 : 공식 레퍼런스 참조 또는 검색 참조)\n",
    "cursor.execute(\"CREATE TABLE IF NOT EXISTS users(id bigint(20) NOT NULL, \\\n",
    "                                            username varchar(20) NOT NULL, \\\n",
    "                                            email varchar(30),  \\\n",
    "                                            phone varchar(30), \\\n",
    "                                            website varchar(30), \\\n",
    "                                            regdate varchar(20) NOT NULL, PRIMARY KEY(id))\" \\\n",
    "                                            ) \n",
    "dbConn.commit()\n",
    "cursor.close()\n",
    "mysqlDbClose(dbConn)"
   ]
  },
  {
   "cell_type": "code",
   "execution_count": null,
   "id": "7fe18c55",
   "metadata": {},
   "outputs": [],
   "source": [
    "#pyMysql 버전확인\n",
    "print('pymysql.version : ',pymysql.__version__)\n",
    "\n",
    "#데이터베이스 선택\n",
    "conn.select_db('DB명')\n"
   ]
  },
  {
   "cell_type": "code",
   "execution_count": 10,
   "id": "bc16417e",
   "metadata": {},
   "outputs": [
    {
     "name": "stdout",
     "output_type": "stream",
     "text": [
      "now 2023-08-30 15:44:26.266612\n",
      "nowDatetime 2023-08-30 15:44:26\n"
     ]
    }
   ],
   "source": [
    "#날짜 생성\n",
    "now = datetime.datetime.now()\n",
    "print('now',now)\n",
    "nowDatetime = now.strftime('%Y-%m-%d %H:%M:%S')\n",
    "print('nowDatetime',nowDatetime)"
   ]
  },
  {
   "cell_type": "markdown",
   "id": "b8422c6d",
   "metadata": {},
   "source": [
    "## 데이터 삽입(개별)"
   ]
  },
  {
   "cell_type": "code",
   "execution_count": null,
   "id": "cdd25501",
   "metadata": {},
   "outputs": [],
   "source": [
    "dbConn = mysqlDbConnection('rubi',  'mysql', 'localhost', 3306, 'shop100')\n",
    "conn = dbConn.cursor()\n",
    "\n",
    "try:\n",
    "    with conn.cursor() as c:\n",
    "        #데이터 삽입(개별)\n",
    "        c.execute(\"INSERT INTO users VALUES (1 ,'kim','kim@naver.com', '010-0000-0000', 'kim.com', %s)\", (nowDatetime,))\n",
    "        c.execute(\"INSERT INTO users(id, username, email, phone, website, regdate) VALUES (%s, %s, %s, %s, %s, %s)\", (2, 'park', 'park@naver.com', '010-1111-1111', 'park.com', nowDatetime))\n",
    "\n",
    "        #데이터 삽입(Many)(튜플, 리스트 가능)\n",
    "        userList = (\n",
    "            (3 ,'lee','lee@naver.com', '010-2222-2222', 'lee.com', nowDatetime),\n",
    "            (4 ,'cho','cho@naver.com', '010-3333-3333', 'cho.com', nowDatetime),\n",
    "            (5 ,'noh','noh@naver.com', '010-4444-4444', 'noh.com', nowDatetime)\n",
    "        )\n",
    "        c.executemany(\"INSERT INTO users(id, username, email, phone, website, regdate) VALUES (%s, %s, %s, %s, %s, %s)\", userList)\n",
    "\n",
    "    conn.commit()\n",
    "finally:\n",
    "    conn.close()"
   ]
  },
  {
   "cell_type": "markdown",
   "id": "4468f7f0",
   "metadata": {},
   "source": [
    "## JSON to MySQL 삽입1"
   ]
  },
  {
   "cell_type": "code",
   "execution_count": null,
   "id": "e990a9bd",
   "metadata": {},
   "outputs": [],
   "source": [
    "dbConn = mysqlDbConnection('rubi',  'mysql', 'localhost', 3306, 'shop100')\n",
    "conn = dbConn.cursor()\n",
    "\n",
    "try:\n",
    "    with conn.cursor() as c:\n",
    "        with open('./users.json','r') as infile:\n",
    "            r = json.load(infile)\n",
    "            userData = []\n",
    "            for user in r:\n",
    "                t = (user['id'], user['username'], user['email'], user['phone'], user['website'], nowDatetime)\n",
    "                userData.append(t)\n",
    "            c.executemany(\"INSERT INTO users(id, username, email, phone, website, regdate) VALUES (%s, %s, %s, %s, %s, %s)\", userData)\n",
    "            #c.executemany(\"INSERT INTO users(id, username, email, phone, website, regdate) VALUES (%s, %s, %s, %s, %s, %s)\", tuple(userData))\n",
    "    conn.commit()\n",
    "finally:\n",
    "    conn.close()"
   ]
  },
  {
   "cell_type": "markdown",
   "id": "7dae22af",
   "metadata": {},
   "source": [
    "## JSON to MySQL 삽입2"
   ]
  },
  {
   "cell_type": "code",
   "execution_count": 14,
   "id": "99a5f3ee",
   "metadata": {},
   "outputs": [
    {
     "name": "stdout",
     "output_type": "stream",
     "text": [
      "DB Connection Success: localhost\n",
      "DB Close Success\n"
     ]
    }
   ],
   "source": [
    "dbConn = mysqlDbConnection('rubi',  'mysql', 'localhost', 3306, 'shop100')\n",
    "cursor = dbConn.cursor()\n",
    "\n",
    "try:\n",
    "    with open('./users.json','r') as infile:\n",
    "        r = json.load(infile)\n",
    "        for user in r:\n",
    "            cursor.execute(\"INSERT INTO users(id, username, email, phone, website, regdate) VALUES (%s, %s, %s, %s, %s, %s)\", (user['id'], user['username'], user['email'], user['phone'], user['website'], nowDatetime))\n",
    "    #테이블 Row 삭제\n",
    "#     print(\"users db deleted : \", cursor.execute(\"delete from users\"), \"rows\")\n",
    "    dbConn.commit()\n",
    "finally:\n",
    "    cursor.close()\n",
    "    mysqlDbClose(dbConn)"
   ]
  },
  {
   "cell_type": "code",
   "execution_count": null,
   "id": "d67daf88",
   "metadata": {},
   "outputs": [],
   "source": []
  }
 ],
 "metadata": {
  "kernelspec": {
   "display_name": "Python 3 (ipykernel)",
   "language": "python",
   "name": "python3"
  },
  "language_info": {
   "codemirror_mode": {
    "name": "ipython",
    "version": 3
   },
   "file_extension": ".py",
   "mimetype": "text/x-python",
   "name": "python",
   "nbconvert_exporter": "python",
   "pygments_lexer": "ipython3",
   "version": "3.9.17"
  }
 },
 "nbformat": 4,
 "nbformat_minor": 5
}
